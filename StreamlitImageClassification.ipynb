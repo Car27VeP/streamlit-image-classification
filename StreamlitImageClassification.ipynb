{
  "nbformat": 4,
  "nbformat_minor": 0,
  "metadata": {
    "colab": {
      "provenance": []
    },
    "kernelspec": {
      "name": "python3",
      "display_name": "Python 3"
    },
    "language_info": {
      "name": "python"
    }
  },
  "cells": [
    {
      "cell_type": "code",
      "source": [
        "!pip install -q streamlit"
      ],
      "metadata": {
        "id": "b6kIgNN0f3Jm",
        "colab": {
          "base_uri": "https://localhost:8080/"
        },
        "outputId": "afcaa945-a9a5-4d40-a5cd-e5b1fe80693c"
      },
      "execution_count": 1,
      "outputs": [
        {
          "output_type": "stream",
          "name": "stdout",
          "text": [
            "\u001b[2K     \u001b[90m━━━━━━━━━━━━━━━━━━━━━━━━━━━━━━━━━━━━━━━━\u001b[0m \u001b[32m8.1/8.1 MB\u001b[0m \u001b[31m13.3 MB/s\u001b[0m eta \u001b[36m0:00:00\u001b[0m\n",
            "\u001b[2K     \u001b[90m━━━━━━━━━━━━━━━━━━━━━━━━━━━━━━━━━━━━━━━━\u001b[0m \u001b[32m207.3/207.3 kB\u001b[0m \u001b[31m6.5 MB/s\u001b[0m eta \u001b[36m0:00:00\u001b[0m\n",
            "\u001b[2K     \u001b[90m━━━━━━━━━━━━━━━━━━━━━━━━━━━━━━━━━━━━━━━━\u001b[0m \u001b[32m4.8/4.8 MB\u001b[0m \u001b[31m18.0 MB/s\u001b[0m eta \u001b[36m0:00:00\u001b[0m\n",
            "\u001b[2K     \u001b[90m━━━━━━━━━━━━━━━━━━━━━━━━━━━━━━━━━━━━━━━━\u001b[0m \u001b[32m83.0/83.0 kB\u001b[0m \u001b[31m3.1 MB/s\u001b[0m eta \u001b[36m0:00:00\u001b[0m\n",
            "\u001b[2K     \u001b[90m━━━━━━━━━━━━━━━━━━━━━━━━━━━━━━━━━━━━━━━━\u001b[0m \u001b[32m62.7/62.7 kB\u001b[0m \u001b[31m4.1 MB/s\u001b[0m eta \u001b[36m0:00:00\u001b[0m\n",
            "\u001b[?25h"
          ]
        }
      ]
    },
    {
      "cell_type": "code",
      "execution_count": 2,
      "metadata": {
        "colab": {
          "base_uri": "https://localhost:8080/"
        },
        "id": "tQKyHNjYfyoC",
        "outputId": "a44ae9fc-8776-4e35-c4ad-c9e96f7eb5de"
      },
      "outputs": [
        {
          "output_type": "stream",
          "name": "stdout",
          "text": [
            "Writing StreamlitImageClassification0.py\n"
          ]
        }
      ],
      "source": [
        "%%writefile StreamlitImageClassification0.py\n",
        "\n",
        "import streamlit as st\n",
        "import cv2\n",
        "import numpy as np\n",
        "import pandas as pd\n",
        "from PIL import Image\n",
        "from tensorflow.keras.preprocessing.image import load_img\n",
        "from tensorflow.keras.preprocessing.image import img_to_array\n",
        "from keras.applications.imagenet_utils import decode_predictions\n",
        "import time\n",
        "import matplotlib.pyplot as plt\n",
        "import random\n",
        "import os\n",
        "from keras import backend as K\n",
        "\n",
        "from tensorflow.keras.applications import (\n",
        "    vgg16,\n",
        "    resnet50,\n",
        "    mobilenet,\n",
        "    inception_v3)\n",
        "\n",
        "@st.cache_data\n",
        "def vgg16_predict(cam_frame, image_size):\n",
        "    frame = cv2.resize(cam_frame, (image_size, image_size))\n",
        "    numpy_image = img_to_array(frame)\n",
        "    image_batch = np.expand_dims(numpy_image, axis=0)\n",
        "    processed_image = vgg16.preprocess_input(image_batch.copy())\n",
        "\n",
        "    #get the predicted probabilities for each class\n",
        "    predictions = model.predict(processed_image)\n",
        "    label_vgg = decode_predictions(predictions)\n",
        "    cv2.putText(cam_frame, \"VGG16: {}, {:.2F}\".format(label_vgg[0][0]\n",
        "            [1],label_vgg[0][0][2]), (10,30), cv2.FONT_HERSHEY_COMPLEX, 0.5,\n",
        "            (105,105,105), 1)\n",
        "    return cam_frame\n",
        "\n",
        "@st.cache_data\n",
        "def resnet50_predict(cam_frame, image_size):\n",
        "    frame = cv2.resize(cam_frame, (image_size, image_size))\n",
        "    numpy_image = img_to_array(frame)\n",
        "    image_batch = np.expand_dims(numpy_image, axis=0)\n",
        "    processed_image = resnet50.preprocess_input(image_batch.copy())\n",
        "\n",
        "    #get the predicted probabilities for each class\n",
        "    predictions = model.predict(processed_image)\n",
        "    label_vgg = decode_predictions(predictions)\n",
        "    cv2.putText(cam_frame, \"ResNet50: {}, {:.2F}\".format(label_vgg[0][0]\n",
        "            [1],label_vgg[0][0][2]), (10,30), cv2.FONT_HERSHEY_COMPLEX, 0.5,\n",
        "            (105,105,105), 1)\n",
        "    st.write()\n",
        "    return cam_frame\n",
        "\n",
        "@st.cache_data\n",
        "def mobilenet_predict(cam_frame, image_size):\n",
        "    frame = cv2.resize(cam_frame, (image_size, image_size))\n",
        "    numpy_image = img_to_array(frame)\n",
        "    image_batch = np.expand_dims(numpy_image, axis=0)\n",
        "    processed_image = mobilenet.preprocess_input(image_batch.copy())\n",
        "\n",
        "    #get the predicted probabilities for each class\n",
        "    predictions = model.predict(processed_image)\n",
        "    label_vgg = decode_predictions(predictions)\n",
        "    cv2.putText(cam_frame, \"MobileNet: {}, {:.2F}\".format(label_vgg[0][0]\n",
        "            [1],label_vgg[0][0][2]), (10,30), cv2.FONT_HERSHEY_COMPLEX, 0.5,\n",
        "            (105,105,105), 1)\n",
        "    return cam_frame\n",
        "\n",
        "@st.cache_data\n",
        "def inception_v3_predict(cam_frame, image_size):\n",
        "    frame = cv2.resize(cam_frame, (image_size, image_size))\n",
        "    numpy_image = img_to_array(frame)\n",
        "    image_batch = np.expand_dims(numpy_image, axis=0)\n",
        "    processed_image = inception_v3.preprocess_input(image_batch.copy())\n",
        "\n",
        "    #get the predicted probabilities for each class\n",
        "    predictions = model.predict(processed_image)\n",
        "    label_vgg = decode_predictions(predictions)\n",
        "    cv2.putText(cam_frame, \"Inception: {}, {:.2F}\".format(label_vgg[0][0]\n",
        "            [1],label_vgg[0][0][2]), (10,30), cv2.FONT_HERSHEY_COMPLEX, 0.5,\n",
        "            (105,105,105), 1)\n",
        "    return cam_frame\n",
        "\n",
        "mode = 1\n",
        "\n",
        "frameST = st.empty()\n",
        "st.title(\"Image Classification\")\n",
        "st.sidebar.markdown('# Image Classification')\n",
        "option = st.sidebar.selectbox(\n",
        "    'Select a depp learning Model:',\n",
        "    ['VGG16','RESNET50','MOBILENET', 'INCEPTION_V3'], index=0\n",
        ")\n",
        "st.sidebar.write('You  selected:', option)\n",
        "if option == 'VGG16':\n",
        "  K.clear_session()\n",
        "  model = vgg16.VGG16(weights='imagenet')\n",
        "  image_size = 224\n",
        "  mode = 1\n",
        "elif option == 'RESNET50':\n",
        "  K.clear_session()\n",
        "  model = resnet50.ResNet50(weights='imagenet')\n",
        "  image_size = 224\n",
        "  mode = 2\n",
        "elif option == 'MOBILENET':\n",
        "  K.clear_session()\n",
        "  model = mobilenet.MobileNet(weights='imagenet')\n",
        "  image_size = 224\n",
        "  mode = 3\n",
        "elif option == 'INCEPTION_V3':\n",
        "  K.clear_session()\n",
        "  model = inception_v3.InceptionV3(weights='imagenet')\n",
        "  image_size = 299\n",
        "  mode = 4\n",
        "\n",
        "\n",
        "\n",
        "file_image = st.sidebar.file_uploader('Upload your Images',\n",
        "type=['jpeg','jpg','png','gif'])\n",
        "\n",
        "if file_image is None:\n",
        "    st.write(\"No image file!\")\n",
        "else:\n",
        "    img = Image.open(file_image)\n",
        "    img = np.array(img)[:,:,::-1].copy()\n",
        "    #imcv = cv2.cvtColor(np.asarray(img), cv2.COLOR_RGB2BGR)\n",
        "    st.write(\"Image\")\n",
        "\n",
        "if mode == 1:\n",
        "  img = vgg16_predict(img, image_size)\n",
        "elif mode == 2:\n",
        "  img = resnet50_predict(img, image_size)\n",
        "elif mode == 3:\n",
        "  img = mobilenet_predict(img, image_size)\n",
        "elif mode == 4:\n",
        "  img = inception_v3_predict(img, image_size)\n",
        "\n",
        "img = img[:,:,::1]\n",
        "st.image(img, use_column_width=True)\n",
        "if st.button('Download'):\n",
        "    im_pil = Image.fromarray(img)\n",
        "    im_pil.save('output.jpg')\n",
        "    st.write('Download completed')"
      ]
    },
    {
      "cell_type": "code",
      "source": [
        "!npm install localtunnel"
      ],
      "metadata": {
        "colab": {
          "base_uri": "https://localhost:8080/"
        },
        "id": "AhFIUg6ztyOt",
        "outputId": "e2971f01-5d82-4017-eb39-3bc75b9b68aa"
      },
      "execution_count": 3,
      "outputs": [
        {
          "output_type": "stream",
          "name": "stdout",
          "text": [
            "\u001b[K\u001b[?25h\u001b[37;40mnpm\u001b[0m \u001b[0m\u001b[30;43mWARN\u001b[0m \u001b[0m\u001b[35msaveError\u001b[0m ENOENT: no such file or directory, open '/content/package.json'\n",
            "\u001b[0m\u001b[37;40mnpm\u001b[0m \u001b[0m\u001b[34;40mnotice\u001b[0m\u001b[35m\u001b[0m created a lockfile as package-lock.json. You should commit this file.\n",
            "\u001b[0m\u001b[37;40mnpm\u001b[0m \u001b[0m\u001b[30;43mWARN\u001b[0m \u001b[0m\u001b[35menoent\u001b[0m ENOENT: no such file or directory, open '/content/package.json'\n",
            "\u001b[0m\u001b[37;40mnpm\u001b[0m \u001b[0m\u001b[30;43mWARN\u001b[0m\u001b[35m\u001b[0m content No description\n",
            "\u001b[0m\u001b[37;40mnpm\u001b[0m \u001b[0m\u001b[30;43mWARN\u001b[0m\u001b[35m\u001b[0m content No repository field.\n",
            "\u001b[0m\u001b[37;40mnpm\u001b[0m \u001b[0m\u001b[30;43mWARN\u001b[0m\u001b[35m\u001b[0m content No README data\n",
            "\u001b[0m\u001b[37;40mnpm\u001b[0m \u001b[0m\u001b[30;43mWARN\u001b[0m\u001b[35m\u001b[0m content No license field.\n",
            "\u001b[0m\n",
            "+ localtunnel@2.0.2\n",
            "added 22 packages from 22 contributors and audited 22 packages in 2.326s\n",
            "\n",
            "3 packages are looking for funding\n",
            "  run `npm fund` for details\n",
            "\n",
            "found 1 \u001b[93mmoderate\u001b[0m severity vulnerability\n",
            "  run `npm audit fix` to fix them, or `npm audit` for details\n",
            "\u001b[K\u001b[?25h"
          ]
        }
      ]
    },
    {
      "cell_type": "code",
      "source": [
        "!streamlit run StreamlitImageClassification0.py &>/content/logs.txt & npx localtunnel --port 8501 & curl ipv4.icanhazip.com"
      ],
      "metadata": {
        "colab": {
          "base_uri": "https://localhost:8080/"
        },
        "id": "ZmSSSKdcyVhC",
        "outputId": "385dd161-f4fd-477b-9d17-2b27c8f172e1"
      },
      "execution_count": 4,
      "outputs": [
        {
          "output_type": "stream",
          "name": "stdout",
          "text": [
            "34.23.112.234\n",
            "\u001b[K\u001b[?25hnpx: installed 22 in 2.28s\n",
            "your url is: https://big-cloths-shout.loca.lt\n"
          ]
        }
      ]
    },
    {
      "cell_type": "markdown",
      "source": [
        "#Resultados de los Modelos"
      ],
      "metadata": {
        "id": "YI1NmcCfv7Rg"
      }
    },
    {
      "cell_type": "markdown",
      "source": [
        "###VGG16"
      ],
      "metadata": {
        "id": "OJ_BiqdkwDxc"
      }
    },
    {
      "cell_type": "markdown",
      "source": [
        "\n",
        "*   Copa de vino: Identifico la imagen de copa de vino como vino tinto, la imagen se muestra que la copa vino esta llena de vino tinto de lo cual se puede decir que es correcta la prediccion. El indice que exactitud de la predccion es de 0.59.\n",
        "*   Control de xbox: La imgen es un control de xbox y el modelo lo reconocio como una imagen de joystick. El indice de exactitud es 0.72.\n",
        "*   Nave espacial: El modelo categorizo la imagen como snorkel. Indice de exactitud 0.39.\n",
        "*   Moto: Imagen identificada como ciclo motor. Indice de exactitud de 0.44\n",
        "*   Cama: Objeto identificado como sofa. Indice de exactitud 0.47.\n",
        "\n"
      ],
      "metadata": {
        "id": "nysxnhXcwGOB"
      }
    },
    {
      "cell_type": "markdown",
      "source": [
        "###RESNET50"
      ],
      "metadata": {
        "id": "NOgqJUKxwIVm"
      }
    },
    {
      "cell_type": "markdown",
      "source": [
        "\n",
        "\n",
        "*   Copa de vino: Tambien lo identifico como vino tinto. El indice de prrediccion es de 0.77\n",
        "*   Control de xbox: El modelo identifico la imagen como joystick. Indice de esactitus 0.61.\n",
        "*   Nave espacial: Imagen idenitificada como snorkel. Indice de exactitud 0.47.\n",
        "*   Moto: Imagen identificada como disco de freno. Indice de exactitud 0.60.\n",
        "*   Cama: Objeto identificado como sofa. Indice de exactitud 0.47.\n"
      ],
      "metadata": {
        "id": "mJlUkbqqwsV6"
      }
    },
    {
      "cell_type": "markdown",
      "source": [
        "###MOBILENET"
      ],
      "metadata": {
        "id": "twAz9ZTkw_OA"
      }
    },
    {
      "cell_type": "markdown",
      "source": [
        "\n",
        "\n",
        "*   Copa de vino: La reconocio como una lampara de mesa.\n",
        "*   Control de xbox: Imagen identificada como joystick. Indice de exactitud de 0.98.\n",
        "*   Nave espacial: Imgen identificada como tranborador espacial. Indice de exactitud de 0.23\n",
        "*   Moto: Imagen identificada como disco de freno. Indice de exactitud 0.77.\n",
        "*   Cama: El modelo identifica la iamgen como cuna. El indice de exactitud es 0.50.\n"
      ],
      "metadata": {
        "id": "zktphyEaxL8B"
      }
    },
    {
      "cell_type": "markdown",
      "source": [
        "###INCEPTION"
      ],
      "metadata": {
        "id": "Epi6TROaxGPp"
      }
    },
    {
      "cell_type": "markdown",
      "source": [
        "\n",
        "\n",
        "*   Copa de vino: El resultadod e la preccion fue que el modelo reconocio el objeto de la imagen como un caliz. Hecho no del todo del cierto dado que es una copa de vino. El indice de predicciojn es de 0.38\n",
        "*   Control de xbox: Imagen categorizada como clase de joystick. El indice de exactitud es de 0.62.\n",
        "*   Nave espacial: Imagen identificada como transborador espacial. Indice de exactitud de 1.\n",
        "*   Moto: Imagen identificada como ciclo motor. Indice de exactitud 0.73.\n",
        "*   Cama: Objeto identificado como sofa. Indice de exactitud 0.73.\n",
        "\n"
      ],
      "metadata": {
        "id": "SFfSlCI0xX5j"
      }
    }
  ]
}